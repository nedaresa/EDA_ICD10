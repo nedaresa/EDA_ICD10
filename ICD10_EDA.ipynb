{
 "cells": [
  {
   "cell_type": "markdown",
   "metadata": {},
   "source": [
    "Instructions:\n",
    "\n",
    "(1) Load ICD category code descriptions into dataframe. Do not store the file on disk.\n",
    "  url: https://github.com/kamillamagna/ICD-10-CSV/blob/master/categories.csv?raw=true\n",
    "(2) Load ICD block descriptions into a dataframe. Do no store any files to disk\n",
    "  url: https://www.aapc.com/icd-10/\n",
    "  hint: consider using `pd.read_html`\n",
    "(3) Count all the icd10 codes characterized as diseases according to the ICD block description\n",
    "(4) From the codes in step (3) isolate though refering to 'viral' or 'virus' and concatenate, separating by semicolon"
   ]
  },
  {
   "cell_type": "code",
   "execution_count": 7,
   "metadata": {},
   "outputs": [
    {
     "data": {
      "text/html": [
       "<div>\n",
       "<style scoped>\n",
       "    .dataframe tbody tr th:only-of-type {\n",
       "        vertical-align: middle;\n",
       "    }\n",
       "\n",
       "    .dataframe tbody tr th {\n",
       "        vertical-align: top;\n",
       "    }\n",
       "\n",
       "    .dataframe thead th {\n",
       "        text-align: right;\n",
       "    }\n",
       "</style>\n",
       "<table border=\"1\" class=\"dataframe\">\n",
       "  <thead>\n",
       "    <tr style=\"text-align: right;\">\n",
       "      <th></th>\n",
       "      <th>A00</th>\n",
       "      <th>Cholera</th>\n",
       "    </tr>\n",
       "  </thead>\n",
       "  <tbody>\n",
       "    <tr>\n",
       "      <td>0</td>\n",
       "      <td>A01</td>\n",
       "      <td>Typhoid and paratyphoid fevers</td>\n",
       "    </tr>\n",
       "    <tr>\n",
       "      <td>1</td>\n",
       "      <td>A010</td>\n",
       "      <td>Typhoid fever</td>\n",
       "    </tr>\n",
       "    <tr>\n",
       "      <td>2</td>\n",
       "      <td>A011</td>\n",
       "      <td>Paratyphoid fever A</td>\n",
       "    </tr>\n",
       "    <tr>\n",
       "      <td>3</td>\n",
       "      <td>A012</td>\n",
       "      <td>Paratyphoid fever B</td>\n",
       "    </tr>\n",
       "    <tr>\n",
       "      <td>4</td>\n",
       "      <td>A013</td>\n",
       "      <td>Paratyphoid fever C</td>\n",
       "    </tr>\n",
       "    <tr>\n",
       "      <td>...</td>\n",
       "      <td>...</td>\n",
       "      <td>...</td>\n",
       "    </tr>\n",
       "    <tr>\n",
       "      <td>24622</td>\n",
       "      <td>Z99</td>\n",
       "      <td>Dependence on enabling machines and devices, n...</td>\n",
       "    </tr>\n",
       "    <tr>\n",
       "      <td>24623</td>\n",
       "      <td>Z991</td>\n",
       "      <td>Dependence on respirator</td>\n",
       "    </tr>\n",
       "    <tr>\n",
       "      <td>24624</td>\n",
       "      <td>Z992</td>\n",
       "      <td>Dependence on renal dialysis</td>\n",
       "    </tr>\n",
       "    <tr>\n",
       "      <td>24625</td>\n",
       "      <td>Z993</td>\n",
       "      <td>Dependence on wheelchair</td>\n",
       "    </tr>\n",
       "    <tr>\n",
       "      <td>24626</td>\n",
       "      <td>Z998</td>\n",
       "      <td>Dependence on other enabling machines and devices</td>\n",
       "    </tr>\n",
       "  </tbody>\n",
       "</table>\n",
       "<p>24627 rows × 2 columns</p>\n",
       "</div>"
      ],
      "text/plain": [
       "        A00                                            Cholera\n",
       "0       A01                     Typhoid and paratyphoid fevers\n",
       "1      A010                                      Typhoid fever\n",
       "2      A011                                Paratyphoid fever A\n",
       "3      A012                                Paratyphoid fever B\n",
       "4      A013                                Paratyphoid fever C\n",
       "...     ...                                                ...\n",
       "24622   Z99  Dependence on enabling machines and devices, n...\n",
       "24623  Z991                           Dependence on respirator\n",
       "24624  Z992                       Dependence on renal dialysis\n",
       "24625  Z993                           Dependence on wheelchair\n",
       "24626  Z998  Dependence on other enabling machines and devices\n",
       "\n",
       "[24627 rows x 2 columns]"
      ]
     },
     "execution_count": 7,
     "metadata": {},
     "output_type": "execute_result"
    }
   ],
   "source": [
    "import pandas as pd\n",
    "url='https://raw.githubusercontent.com/kamillamagna/ICD-10-CSV/master/categories.csv'\n",
    "category_code = pd.read_csv(url,sep=\",\")  \n",
    "category_code"
   ]
  },
  {
   "cell_type": "code",
   "execution_count": null,
   "metadata": {},
   "outputs": [],
   "source": [
    "url=''\n",
    "block_desc = pd.read_csv(url,sep=\",\")  \n",
    "block_desc"
   ]
  }
 ],
 "metadata": {
  "kernelspec": {
   "display_name": "Python 3",
   "language": "python",
   "name": "python3"
  },
  "language_info": {
   "codemirror_mode": {
    "name": "ipython",
    "version": 3
   },
   "file_extension": ".py",
   "mimetype": "text/x-python",
   "name": "python",
   "nbconvert_exporter": "python",
   "pygments_lexer": "ipython3",
   "version": "3.7.4"
  }
 },
 "nbformat": 4,
 "nbformat_minor": 2
}
